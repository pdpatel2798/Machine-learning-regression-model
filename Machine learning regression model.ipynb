{
 "cells": [
  {
   "cell_type": "code",
   "execution_count": 1,
   "metadata": {},
   "outputs": [
    {
     "data": {
      "text/plain": [
       "'C:\\\\Users\\\\Pat'"
      ]
     },
     "execution_count": 1,
     "metadata": {},
     "output_type": "execute_result"
    }
   ],
   "source": [
    "import os\n",
    "os.getcwd()"
   ]
  },
  {
   "cell_type": "code",
   "execution_count": 2,
   "metadata": {},
   "outputs": [],
   "source": [
    "import pandas as pd\n",
    "import numpy as np\n",
    "import array as arr\n",
    "import matplotlib.pyplot as plt\n",
    "from sklearn import linear_model\n",
    "from sklearn.linear_model import LinearRegression\n",
    "from sklearn import svm\n",
    "from sklearn.metrics import r2_score"
   ]
  },
  {
   "cell_type": "code",
   "execution_count": 3,
   "metadata": {},
   "outputs": [
    {
     "data": {
      "text/html": [
       "<div>\n",
       "<style scoped>\n",
       "    .dataframe tbody tr th:only-of-type {\n",
       "        vertical-align: middle;\n",
       "    }\n",
       "\n",
       "    .dataframe tbody tr th {\n",
       "        vertical-align: top;\n",
       "    }\n",
       "\n",
       "    .dataframe thead th {\n",
       "        text-align: right;\n",
       "    }\n",
       "</style>\n",
       "<table border=\"1\" class=\"dataframe\">\n",
       "  <thead>\n",
       "    <tr style=\"text-align: right;\">\n",
       "      <th></th>\n",
       "      <th>months</th>\n",
       "      <th>Revenue stream 1</th>\n",
       "      <th>Revenue stream 2</th>\n",
       "      <th>Total Net Revenue</th>\n",
       "      <th>Cost of Goods Sold</th>\n",
       "      <th>Gross Profit</th>\n",
       "      <th>Advertising &amp; Promotion</th>\n",
       "      <th>Depreciation &amp; Amortization</th>\n",
       "      <th>Insurance</th>\n",
       "      <th>Maintenance</th>\n",
       "      <th>Office Supplies</th>\n",
       "      <th>Rent</th>\n",
       "      <th>Other Expense 1</th>\n",
       "      <th>Total Expenses</th>\n",
       "      <th>Net Earnings</th>\n",
       "    </tr>\n",
       "  </thead>\n",
       "  <tbody>\n",
       "    <tr>\n",
       "      <th>0</th>\n",
       "      <td>1</td>\n",
       "      <td>587.0</td>\n",
       "      <td>145.6</td>\n",
       "      <td>711.6</td>\n",
       "      <td>269.6</td>\n",
       "      <td>442.0</td>\n",
       "      <td>18.7</td>\n",
       "      <td>108.7</td>\n",
       "      <td>1.1</td>\n",
       "      <td>5.7</td>\n",
       "      <td>2.8</td>\n",
       "      <td>5.8</td>\n",
       "      <td>3.8</td>\n",
       "      <td>403.0</td>\n",
       "      <td>25.5</td>\n",
       "    </tr>\n",
       "    <tr>\n",
       "      <th>1</th>\n",
       "      <td>2</td>\n",
       "      <td>596.3</td>\n",
       "      <td>147.9</td>\n",
       "      <td>722.9</td>\n",
       "      <td>273.9</td>\n",
       "      <td>449.0</td>\n",
       "      <td>19.1</td>\n",
       "      <td>110.9</td>\n",
       "      <td>1.1</td>\n",
       "      <td>5.8</td>\n",
       "      <td>2.9</td>\n",
       "      <td>5.9</td>\n",
       "      <td>39.0</td>\n",
       "      <td>411.0</td>\n",
       "      <td>24.8</td>\n",
       "    </tr>\n",
       "    <tr>\n",
       "      <th>2</th>\n",
       "      <td>3</td>\n",
       "      <td>605.8</td>\n",
       "      <td>150.2</td>\n",
       "      <td>734.3</td>\n",
       "      <td>278.2</td>\n",
       "      <td>456.1</td>\n",
       "      <td>19.5</td>\n",
       "      <td>113.1</td>\n",
       "      <td>1.1</td>\n",
       "      <td>5.9</td>\n",
       "      <td>2.9</td>\n",
       "      <td>6.0</td>\n",
       "      <td>4.0</td>\n",
       "      <td>419.2</td>\n",
       "      <td>24.1</td>\n",
       "    </tr>\n",
       "    <tr>\n",
       "      <th>3</th>\n",
       "      <td>4</td>\n",
       "      <td>615.4</td>\n",
       "      <td>152.6</td>\n",
       "      <td>746.0</td>\n",
       "      <td>282.7</td>\n",
       "      <td>463.3</td>\n",
       "      <td>19.8</td>\n",
       "      <td>115.3</td>\n",
       "      <td>1.2</td>\n",
       "      <td>6.0</td>\n",
       "      <td>3.0</td>\n",
       "      <td>6.2</td>\n",
       "      <td>4.0</td>\n",
       "      <td>427.5</td>\n",
       "      <td>23.3</td>\n",
       "    </tr>\n",
       "    <tr>\n",
       "      <th>4</th>\n",
       "      <td>5</td>\n",
       "      <td>625.2</td>\n",
       "      <td>155.0</td>\n",
       "      <td>757.8</td>\n",
       "      <td>287.1</td>\n",
       "      <td>470.7</td>\n",
       "      <td>20.2</td>\n",
       "      <td>117.6</td>\n",
       "      <td>1.2</td>\n",
       "      <td>6.2</td>\n",
       "      <td>3.0</td>\n",
       "      <td>6.3</td>\n",
       "      <td>4.1</td>\n",
       "      <td>436.0</td>\n",
       "      <td>22.5</td>\n",
       "    </tr>\n",
       "  </tbody>\n",
       "</table>\n",
       "</div>"
      ],
      "text/plain": [
       "   months  Revenue stream 1  Revenue stream 2  Total Net Revenue  \\\n",
       "0       1             587.0             145.6              711.6   \n",
       "1       2             596.3             147.9              722.9   \n",
       "2       3             605.8             150.2              734.3   \n",
       "3       4             615.4             152.6              746.0   \n",
       "4       5             625.2             155.0              757.8   \n",
       "\n",
       "   Cost of Goods Sold  Gross Profit  Advertising & Promotion  \\\n",
       "0               269.6         442.0                     18.7   \n",
       "1               273.9         449.0                     19.1   \n",
       "2               278.2         456.1                     19.5   \n",
       "3               282.7         463.3                     19.8   \n",
       "4               287.1         470.7                     20.2   \n",
       "\n",
       "   Depreciation & Amortization  Insurance  Maintenance  Office Supplies  Rent  \\\n",
       "0                        108.7        1.1          5.7              2.8   5.8   \n",
       "1                        110.9        1.1          5.8              2.9   5.9   \n",
       "2                        113.1        1.1          5.9              2.9   6.0   \n",
       "3                        115.3        1.2          6.0              3.0   6.2   \n",
       "4                        117.6        1.2          6.2              3.0   6.3   \n",
       "\n",
       "   Other Expense 1  Total Expenses  Net Earnings  \n",
       "0              3.8           403.0          25.5  \n",
       "1             39.0           411.0          24.8  \n",
       "2              4.0           419.2          24.1  \n",
       "3              4.0           427.5          23.3  \n",
       "4              4.1           436.0          22.5  "
      ]
     },
     "execution_count": 3,
     "metadata": {},
     "output_type": "execute_result"
    }
   ],
   "source": [
    "import csv\n",
    "dataset = pd.read_csv('parth.csv')\n",
    "dataset.head()"
   ]
  },
  {
   "cell_type": "code",
   "execution_count": 4,
   "metadata": {},
   "outputs": [
    {
     "data": {
      "text/plain": [
       "(13, 15)"
      ]
     },
     "execution_count": 4,
     "metadata": {},
     "output_type": "execute_result"
    }
   ],
   "source": [
    "dataset.shape"
   ]
  },
  {
   "cell_type": "code",
   "execution_count": 5,
   "metadata": {},
   "outputs": [
    {
     "data": {
      "text/html": [
       "<div>\n",
       "<style scoped>\n",
       "    .dataframe tbody tr th:only-of-type {\n",
       "        vertical-align: middle;\n",
       "    }\n",
       "\n",
       "    .dataframe tbody tr th {\n",
       "        vertical-align: top;\n",
       "    }\n",
       "\n",
       "    .dataframe thead th {\n",
       "        text-align: right;\n",
       "    }\n",
       "</style>\n",
       "<table border=\"1\" class=\"dataframe\">\n",
       "  <thead>\n",
       "    <tr style=\"text-align: right;\">\n",
       "      <th></th>\n",
       "      <th>months</th>\n",
       "      <th>Revenue stream 1</th>\n",
       "      <th>Revenue stream 2</th>\n",
       "      <th>Total Net Revenue</th>\n",
       "      <th>Cost of Goods Sold</th>\n",
       "      <th>Gross Profit</th>\n",
       "      <th>Advertising &amp; Promotion</th>\n",
       "      <th>Depreciation &amp; Amortization</th>\n",
       "      <th>Insurance</th>\n",
       "      <th>Maintenance</th>\n",
       "      <th>Office Supplies</th>\n",
       "      <th>Rent</th>\n",
       "      <th>Other Expense 1</th>\n",
       "      <th>Total Expenses</th>\n",
       "      <th>Net Earnings</th>\n",
       "    </tr>\n",
       "  </thead>\n",
       "  <tbody>\n",
       "    <tr>\n",
       "      <th>count</th>\n",
       "      <td>13.00000</td>\n",
       "      <td>13.000000</td>\n",
       "      <td>13.000000</td>\n",
       "      <td>13.000000</td>\n",
       "      <td>13.000000</td>\n",
       "      <td>13.000000</td>\n",
       "      <td>13.000000</td>\n",
       "      <td>13.000000</td>\n",
       "      <td>13.000000</td>\n",
       "      <td>13.000000</td>\n",
       "      <td>13.000000</td>\n",
       "      <td>13.000000</td>\n",
       "      <td>13.000000</td>\n",
       "      <td>13.000000</td>\n",
       "      <td>13.000000</td>\n",
       "    </tr>\n",
       "    <tr>\n",
       "      <th>mean</th>\n",
       "      <td>7.00000</td>\n",
       "      <td>1183.484615</td>\n",
       "      <td>293.461538</td>\n",
       "      <td>1434.623077</td>\n",
       "      <td>543.569231</td>\n",
       "      <td>1254.853846</td>\n",
       "      <td>38.553846</td>\n",
       "      <td>224.130769</td>\n",
       "      <td>2.261538</td>\n",
       "      <td>11.746154</td>\n",
       "      <td>5.776923</td>\n",
       "      <td>11.961538</td>\n",
       "      <td>10.530769</td>\n",
       "      <td>830.946154</td>\n",
       "      <td>38.830769</td>\n",
       "    </tr>\n",
       "    <tr>\n",
       "      <th>std</th>\n",
       "      <td>3.89444</td>\n",
       "      <td>1956.055952</td>\n",
       "      <td>485.124387</td>\n",
       "      <td>2371.139040</td>\n",
       "      <td>898.414825</td>\n",
       "      <td>1897.738153</td>\n",
       "      <td>63.727671</td>\n",
       "      <td>370.462649</td>\n",
       "      <td>3.738435</td>\n",
       "      <td>19.430973</td>\n",
       "      <td>9.533900</td>\n",
       "      <td>19.756962</td>\n",
       "      <td>15.469722</td>\n",
       "      <td>1373.500263</td>\n",
       "      <td>64.240556</td>\n",
       "    </tr>\n",
       "    <tr>\n",
       "      <th>min</th>\n",
       "      <td>1.00000</td>\n",
       "      <td>587.000000</td>\n",
       "      <td>145.600000</td>\n",
       "      <td>711.600000</td>\n",
       "      <td>269.600000</td>\n",
       "      <td>442.000000</td>\n",
       "      <td>18.700000</td>\n",
       "      <td>108.700000</td>\n",
       "      <td>1.100000</td>\n",
       "      <td>5.700000</td>\n",
       "      <td>2.800000</td>\n",
       "      <td>5.800000</td>\n",
       "      <td>3.800000</td>\n",
       "      <td>403.000000</td>\n",
       "      <td>15.900000</td>\n",
       "    </tr>\n",
       "    <tr>\n",
       "      <th>25%</th>\n",
       "      <td>4.00000</td>\n",
       "      <td>615.400000</td>\n",
       "      <td>152.600000</td>\n",
       "      <td>746.000000</td>\n",
       "      <td>282.700000</td>\n",
       "      <td>463.300000</td>\n",
       "      <td>19.800000</td>\n",
       "      <td>115.300000</td>\n",
       "      <td>1.200000</td>\n",
       "      <td>6.000000</td>\n",
       "      <td>3.000000</td>\n",
       "      <td>6.200000</td>\n",
       "      <td>4.100000</td>\n",
       "      <td>427.500000</td>\n",
       "      <td>19.000000</td>\n",
       "    </tr>\n",
       "    <tr>\n",
       "      <th>50%</th>\n",
       "      <td>7.00000</td>\n",
       "      <td>645.200000</td>\n",
       "      <td>160.000000</td>\n",
       "      <td>782.100000</td>\n",
       "      <td>296.300000</td>\n",
       "      <td>485.700000</td>\n",
       "      <td>21.000000</td>\n",
       "      <td>122.300000</td>\n",
       "      <td>1.200000</td>\n",
       "      <td>6.400000</td>\n",
       "      <td>3.200000</td>\n",
       "      <td>6.500000</td>\n",
       "      <td>4.400000</td>\n",
       "      <td>453.500000</td>\n",
       "      <td>21.700000</td>\n",
       "    </tr>\n",
       "    <tr>\n",
       "      <th>75%</th>\n",
       "      <td>10.00000</td>\n",
       "      <td>676.400000</td>\n",
       "      <td>167.700000</td>\n",
       "      <td>819.900000</td>\n",
       "      <td>310.700000</td>\n",
       "      <td>509.200000</td>\n",
       "      <td>22.300000</td>\n",
       "      <td>129.800000</td>\n",
       "      <td>1.300000</td>\n",
       "      <td>6.800000</td>\n",
       "      <td>3.300000</td>\n",
       "      <td>6.900000</td>\n",
       "      <td>4.600000</td>\n",
       "      <td>481.100000</td>\n",
       "      <td>24.100000</td>\n",
       "    </tr>\n",
       "    <tr>\n",
       "      <th>max</th>\n",
       "      <td>13.00000</td>\n",
       "      <td>7692.600000</td>\n",
       "      <td>1907.800000</td>\n",
       "      <td>9325.000000</td>\n",
       "      <td>3533.200000</td>\n",
       "      <td>5791.800000</td>\n",
       "      <td>250.600000</td>\n",
       "      <td>1456.800000</td>\n",
       "      <td>14.700000</td>\n",
       "      <td>76.400000</td>\n",
       "      <td>37.500000</td>\n",
       "      <td>77.700000</td>\n",
       "      <td>50.900000</td>\n",
       "      <td>5401.100000</td>\n",
       "      <td>252.400000</td>\n",
       "    </tr>\n",
       "  </tbody>\n",
       "</table>\n",
       "</div>"
      ],
      "text/plain": [
       "         months  Revenue stream 1  Revenue stream 2  Total Net Revenue  \\\n",
       "count  13.00000         13.000000         13.000000          13.000000   \n",
       "mean    7.00000       1183.484615        293.461538        1434.623077   \n",
       "std     3.89444       1956.055952        485.124387        2371.139040   \n",
       "min     1.00000        587.000000        145.600000         711.600000   \n",
       "25%     4.00000        615.400000        152.600000         746.000000   \n",
       "50%     7.00000        645.200000        160.000000         782.100000   \n",
       "75%    10.00000        676.400000        167.700000         819.900000   \n",
       "max    13.00000       7692.600000       1907.800000        9325.000000   \n",
       "\n",
       "       Cost of Goods Sold  Gross Profit  Advertising & Promotion  \\\n",
       "count           13.000000     13.000000                13.000000   \n",
       "mean           543.569231   1254.853846                38.553846   \n",
       "std            898.414825   1897.738153                63.727671   \n",
       "min            269.600000    442.000000                18.700000   \n",
       "25%            282.700000    463.300000                19.800000   \n",
       "50%            296.300000    485.700000                21.000000   \n",
       "75%            310.700000    509.200000                22.300000   \n",
       "max           3533.200000   5791.800000               250.600000   \n",
       "\n",
       "       Depreciation & Amortization  Insurance  Maintenance  Office Supplies  \\\n",
       "count                    13.000000  13.000000    13.000000        13.000000   \n",
       "mean                    224.130769   2.261538    11.746154         5.776923   \n",
       "std                     370.462649   3.738435    19.430973         9.533900   \n",
       "min                     108.700000   1.100000     5.700000         2.800000   \n",
       "25%                     115.300000   1.200000     6.000000         3.000000   \n",
       "50%                     122.300000   1.200000     6.400000         3.200000   \n",
       "75%                     129.800000   1.300000     6.800000         3.300000   \n",
       "max                    1456.800000  14.700000    76.400000        37.500000   \n",
       "\n",
       "            Rent  Other Expense 1  Total Expenses  Net Earnings  \n",
       "count  13.000000        13.000000       13.000000     13.000000  \n",
       "mean   11.961538        10.530769      830.946154     38.830769  \n",
       "std    19.756962        15.469722     1373.500263     64.240556  \n",
       "min     5.800000         3.800000      403.000000     15.900000  \n",
       "25%     6.200000         4.100000      427.500000     19.000000  \n",
       "50%     6.500000         4.400000      453.500000     21.700000  \n",
       "75%     6.900000         4.600000      481.100000     24.100000  \n",
       "max    77.700000        50.900000     5401.100000    252.400000  "
      ]
     },
     "execution_count": 5,
     "metadata": {},
     "output_type": "execute_result"
    }
   ],
   "source": [
    "dataset.describe()"
   ]
  },
  {
   "cell_type": "markdown",
   "metadata": {},
   "source": [
    "# use of linear regression model"
   ]
  },
  {
   "cell_type": "code",
   "execution_count": 6,
   "metadata": {},
   "outputs": [],
   "source": [
    "X = dataset.iloc[:,0:14].values\n",
    "y = dataset.iloc[:,-1].values\n",
    "\n",
    "\n"
   ]
  },
  {
   "cell_type": "code",
   "execution_count": 7,
   "metadata": {},
   "outputs": [],
   "source": [
    "from sklearn.model_selection import train_test_split\n",
    "X_train, X_test, y_train, y_test = train_test_split(X, y, test_size=0.3, random_state=1)"
   ]
  },
  {
   "cell_type": "code",
   "execution_count": 8,
   "metadata": {},
   "outputs": [
    {
     "data": {
      "text/plain": [
       "LinearRegression(copy_X=True, fit_intercept=True, n_jobs=None,\n",
       "         normalize=False)"
      ]
     },
     "execution_count": 8,
     "metadata": {},
     "output_type": "execute_result"
    }
   ],
   "source": [
    "regressor = LinearRegression()  \n",
    "regressor.fit(X_train, y_train)"
   ]
  },
  {
   "cell_type": "code",
   "execution_count": 9,
   "metadata": {},
   "outputs": [
    {
     "name": "stdout",
     "output_type": "stream",
     "text": [
      "0.20675702106203886\n",
      "[-3.25151576e-02 -3.54857118e-02 -1.37253141e-02  2.82952522e-01\n",
      "  4.19980208e-01 -1.65972502e-07 -8.19805053e-02 -4.81160579e-01\n",
      "  1.35283790e-01  2.74620482e-01 -3.83926673e-01  1.56233824e-01\n",
      "  8.03549954e-04 -5.31351122e-01]\n"
     ]
    }
   ],
   "source": [
    "print(regressor.intercept_)\n",
    "print(regressor.coef_)\n"
   ]
  },
  {
   "cell_type": "code",
   "execution_count": 10,
   "metadata": {},
   "outputs": [],
   "source": [
    "y_pred = regressor.predict(X_test)"
   ]
  },
  {
   "cell_type": "code",
   "execution_count": 11,
   "metadata": {},
   "outputs": [
    {
     "name": "stdout",
     "output_type": "stream",
     "text": [
      "   Actual  Predicted\n",
      "0    24.1  23.996911\n",
      "1    23.3  23.331730\n",
      "2    22.5  22.519947\n",
      "3    16.9  17.021173\n",
      "Accuracy: 99.917%\n"
     ]
    }
   ],
   "source": [
    "y_test = np.array(list(y_test))\n",
    "y_pred = np.array(y_pred)\n",
    "df= pd.DataFrame({'Actual': y_test, 'Predicted': y_pred})\n",
    "result = r2_score(y_test,y_pred)\n",
    "print(df)\n",
    "print(\"Accuracy: %.3f%%\" % (result*100.0))"
   ]
  },
  {
   "cell_type": "code",
   "execution_count": null,
   "metadata": {},
   "outputs": [],
   "source": []
  },
  {
   "cell_type": "code",
   "execution_count": 12,
   "metadata": {},
   "outputs": [
    {
     "data": {
      "text/html": [
       "<div>\n",
       "<style scoped>\n",
       "    .dataframe tbody tr th:only-of-type {\n",
       "        vertical-align: middle;\n",
       "    }\n",
       "\n",
       "    .dataframe tbody tr th {\n",
       "        vertical-align: top;\n",
       "    }\n",
       "\n",
       "    .dataframe thead th {\n",
       "        text-align: right;\n",
       "    }\n",
       "</style>\n",
       "<table border=\"1\" class=\"dataframe\">\n",
       "  <thead>\n",
       "    <tr style=\"text-align: right;\">\n",
       "      <th></th>\n",
       "      <th>months</th>\n",
       "      <th>Revenue stream 1</th>\n",
       "      <th>Revenue stream 2</th>\n",
       "      <th>Total Net Revenue</th>\n",
       "      <th>Cost of Goods Sold</th>\n",
       "      <th>Gross Profit</th>\n",
       "      <th>Advertising &amp; Promotion</th>\n",
       "      <th>Depreciation &amp; Amortization</th>\n",
       "      <th>Insurance</th>\n",
       "      <th>Maintenance</th>\n",
       "      <th>Office Supplies</th>\n",
       "      <th>Rent</th>\n",
       "      <th>Other Expense 1</th>\n",
       "      <th>Total Expenses</th>\n",
       "      <th>Unnamed: 14</th>\n",
       "    </tr>\n",
       "  </thead>\n",
       "  <tbody>\n",
       "    <tr>\n",
       "      <th>0</th>\n",
       "      <td>1</td>\n",
       "      <td>635.1</td>\n",
       "      <td>157.5</td>\n",
       "      <td>769.9</td>\n",
       "      <td>291.7</td>\n",
       "      <td>478.2</td>\n",
       "      <td>20.6</td>\n",
       "      <td>119.9</td>\n",
       "      <td>1.2</td>\n",
       "      <td>6.3</td>\n",
       "      <td>3.1</td>\n",
       "      <td>6.4</td>\n",
       "      <td>4.2</td>\n",
       "      <td>444.7</td>\n",
       "      <td>NaN</td>\n",
       "    </tr>\n",
       "    <tr>\n",
       "      <th>1</th>\n",
       "      <td>2</td>\n",
       "      <td>645.2</td>\n",
       "      <td>160.0</td>\n",
       "      <td>782.1</td>\n",
       "      <td>296.3</td>\n",
       "      <td>485.7</td>\n",
       "      <td>21.0</td>\n",
       "      <td>122.3</td>\n",
       "      <td>1.2</td>\n",
       "      <td>6.4</td>\n",
       "      <td>3.2</td>\n",
       "      <td>6.5</td>\n",
       "      <td>4.3</td>\n",
       "      <td>453.5</td>\n",
       "      <td>NaN</td>\n",
       "    </tr>\n",
       "    <tr>\n",
       "      <th>2</th>\n",
       "      <td>3</td>\n",
       "      <td>655.4</td>\n",
       "      <td>162.5</td>\n",
       "      <td>794.5</td>\n",
       "      <td>301.0</td>\n",
       "      <td>493.5</td>\n",
       "      <td>21.5</td>\n",
       "      <td>124.8</td>\n",
       "      <td>1.3</td>\n",
       "      <td>6.5</td>\n",
       "      <td>3.2</td>\n",
       "      <td>6.7</td>\n",
       "      <td>4.4</td>\n",
       "      <td>462.5</td>\n",
       "      <td>NaN</td>\n",
       "    </tr>\n",
       "    <tr>\n",
       "      <th>3</th>\n",
       "      <td>4</td>\n",
       "      <td>665.8</td>\n",
       "      <td>165.1</td>\n",
       "      <td>807.1</td>\n",
       "      <td>305.8</td>\n",
       "      <td>501.3</td>\n",
       "      <td>21.9</td>\n",
       "      <td>127.2</td>\n",
       "      <td>1.3</td>\n",
       "      <td>6.7</td>\n",
       "      <td>3.3</td>\n",
       "      <td>6.8</td>\n",
       "      <td>4.4</td>\n",
       "      <td>471.7</td>\n",
       "      <td>NaN</td>\n",
       "    </tr>\n",
       "  </tbody>\n",
       "</table>\n",
       "</div>"
      ],
      "text/plain": [
       "   months  Revenue stream 1  Revenue stream 2  Total Net Revenue  \\\n",
       "0       1             635.1             157.5              769.9   \n",
       "1       2             645.2             160.0              782.1   \n",
       "2       3             655.4             162.5              794.5   \n",
       "3       4             665.8             165.1              807.1   \n",
       "\n",
       "   Cost of Goods Sold  Gross Profit  Advertising & Promotion  \\\n",
       "0               291.7         478.2                     20.6   \n",
       "1               296.3         485.7                     21.0   \n",
       "2               301.0         493.5                     21.5   \n",
       "3               305.8         501.3                     21.9   \n",
       "\n",
       "   Depreciation & Amortization  Insurance  Maintenance  Office Supplies  Rent  \\\n",
       "0                        119.9        1.2          6.3              3.1   6.4   \n",
       "1                        122.3        1.2          6.4              3.2   6.5   \n",
       "2                        124.8        1.3          6.5              3.2   6.7   \n",
       "3                        127.2        1.3          6.7              3.3   6.8   \n",
       "\n",
       "   Other Expense 1  Total Expenses  Unnamed: 14  \n",
       "0              4.2           444.7          NaN  \n",
       "1              4.3           453.5          NaN  \n",
       "2              4.4           462.5          NaN  \n",
       "3              4.4           471.7          NaN  "
      ]
     },
     "execution_count": 12,
     "metadata": {},
     "output_type": "execute_result"
    }
   ],
   "source": [
    "new_data = pd.read_csv('p.csv')\n",
    "new_data.head()"
   ]
  },
  {
   "cell_type": "code",
   "execution_count": 13,
   "metadata": {},
   "outputs": [
    {
     "data": {
      "text/html": [
       "<div>\n",
       "<style scoped>\n",
       "    .dataframe tbody tr th:only-of-type {\n",
       "        vertical-align: middle;\n",
       "    }\n",
       "\n",
       "    .dataframe tbody tr th {\n",
       "        vertical-align: top;\n",
       "    }\n",
       "\n",
       "    .dataframe thead th {\n",
       "        text-align: right;\n",
       "    }\n",
       "</style>\n",
       "<table border=\"1\" class=\"dataframe\">\n",
       "  <thead>\n",
       "    <tr style=\"text-align: right;\">\n",
       "      <th></th>\n",
       "      <th>predicted</th>\n",
       "    </tr>\n",
       "  </thead>\n",
       "  <tbody>\n",
       "    <tr>\n",
       "      <th>0</th>\n",
       "      <td>21.862576</td>\n",
       "    </tr>\n",
       "    <tr>\n",
       "      <th>1</th>\n",
       "      <td>20.962576</td>\n",
       "    </tr>\n",
       "    <tr>\n",
       "      <th>2</th>\n",
       "      <td>20.062576</td>\n",
       "    </tr>\n",
       "    <tr>\n",
       "      <th>3</th>\n",
       "      <td>19.162576</td>\n",
       "    </tr>\n",
       "  </tbody>\n",
       "</table>\n",
       "</div>"
      ],
      "text/plain": [
       "   predicted\n",
       "0  21.862576\n",
       "1  20.962576\n",
       "2  20.062576\n",
       "3  19.162576"
      ]
     },
     "execution_count": 13,
     "metadata": {},
     "output_type": "execute_result"
    }
   ],
   "source": [
    "new_data = new_data.iloc[:,0:14]\n",
    "new_pred = regressor.predict(new_data)\n",
    "new_data_prediction = pd.DataFrame({'predicted': new_pred})\n",
    "new_data_prediction"
   ]
  },
  {
   "cell_type": "markdown",
   "metadata": {},
   "source": [
    "# use of Decision tree model"
   ]
  },
  {
   "cell_type": "code",
   "execution_count": 14,
   "metadata": {},
   "outputs": [
    {
     "data": {
      "text/plain": [
       "array([24.8, 24.8, 21.7, 15.9])"
      ]
     },
     "execution_count": 14,
     "metadata": {},
     "output_type": "execute_result"
    }
   ],
   "source": [
    "from sklearn.tree import DecisionTreeRegressor\n",
    "regressor1 = DecisionTreeRegressor(max_depth=5)\n",
    "regressor1.fit(X_train,y_train)\n",
    "y_pred1 = regressor1.predict(X_test)\n",
    "y_pred1\n"
   ]
  },
  {
   "cell_type": "code",
   "execution_count": 15,
   "metadata": {},
   "outputs": [
    {
     "name": "stdout",
     "output_type": "stream",
     "text": [
      "   Real Values  Predicted Values\n",
      "0         24.1              24.8\n",
      "1         23.3              24.8\n",
      "2         22.5              21.7\n",
      "3         16.9              15.9\n",
      "Accuracy: 86.313%\n"
     ]
    }
   ],
   "source": [
    "df1 = pd.DataFrame({'Real Values':y_test, 'Predicted Values':y_pred1})\n",
    "result1 = r2_score(y_test,y_pred1)\n",
    "print(df1)\n",
    "print(\"Accuracy: %.3f%%\" % (result1*100.0))"
   ]
  },
  {
   "cell_type": "markdown",
   "metadata": {},
   "source": [
    "# use of Support vector machine "
   ]
  },
  {
   "cell_type": "code",
   "execution_count": 16,
   "metadata": {},
   "outputs": [],
   "source": [
    "from sklearn.preprocessing import StandardScaler\n",
    "sc_X = StandardScaler()\n",
    "sc_y = StandardScaler()\n",
    "X = sc_X.fit_transform(X_train)\n",
    "y = sc_y.fit_transform(y_train.reshape(-1,1))"
   ]
  },
  {
   "cell_type": "code",
   "execution_count": 17,
   "metadata": {},
   "outputs": [
    {
     "name": "stdout",
     "output_type": "stream",
     "text": [
      "   Real Values  Predicted Values\n",
      "0         24.1         23.919221\n",
      "1         23.3         23.192533\n",
      "2         22.5         22.398508\n",
      "3         16.9         17.177970\n",
      "Accuracy: 99.588%\n"
     ]
    }
   ],
   "source": [
    "from sklearn.svm import SVR\n",
    "regressor2 = SVR(kernel='linear')\n",
    "regressor2.fit(X_train,y_train)\n",
    "y_pred2 = regressor2.predict(X_test)\n",
    "df2 = pd.DataFrame({'Real Values':y_test, 'Predicted Values':y_pred2})\n",
    "result2 = r2_score(y_test,y_pred2)\n",
    "print(df2)\n",
    "print(\"Accuracy: %.3f%%\" % (result2*100.0))\n"
   ]
  },
  {
   "cell_type": "code",
   "execution_count": 18,
   "metadata": {},
   "outputs": [
    {
     "name": "stdout",
     "output_type": "stream",
     "text": [
      "   Real Values  Predicted Values\n",
      "0         24.1              20.8\n",
      "1         23.3              20.8\n",
      "2         22.5              20.8\n",
      "3         16.9              20.8\n",
      "Accuracy: -10.125%\n"
     ]
    },
    {
     "name": "stderr",
     "output_type": "stream",
     "text": [
      "C:\\Program Files (x86)\\Anaconda\\lib\\site-packages\\sklearn\\svm\\base.py:196: FutureWarning: The default value of gamma will change from 'auto' to 'scale' in version 0.22 to account better for unscaled features. Set gamma explicitly to 'auto' or 'scale' to avoid this warning.\n",
      "  \"avoid this warning.\", FutureWarning)\n"
     ]
    }
   ],
   "source": [
    "from sklearn.svm import SVR\n",
    "regressor2 = SVR(kernel='rbf')\n",
    "regressor2.fit(X_train,y_train)\n",
    "y_pred3 = regressor2.predict(X_test)\n",
    "df2 = pd.DataFrame({'Real Values':y_test, 'Predicted Values':y_pred3})\n",
    "result3 = r2_score(y_test,y_pred3)\n",
    "print(df2)\n",
    "print(\"Accuracy: %.3f%%\" % (result3*100.0))"
   ]
  },
  {
   "cell_type": "code",
   "execution_count": 19,
   "metadata": {},
   "outputs": [
    {
     "name": "stderr",
     "output_type": "stream",
     "text": [
      "C:\\Program Files (x86)\\Anaconda\\lib\\site-packages\\sklearn\\svm\\base.py:196: FutureWarning: The default value of gamma will change from 'auto' to 'scale' in version 0.22 to account better for unscaled features. Set gamma explicitly to 'auto' or 'scale' to avoid this warning.\n",
      "  \"avoid this warning.\", FutureWarning)\n"
     ]
    },
    {
     "name": "stdout",
     "output_type": "stream",
     "text": [
      "   Real Values  Predicted Values\n",
      "0         24.1         24.103385\n",
      "1         23.3         23.394901\n",
      "2         22.5         22.629978\n",
      "3         16.9         16.744319\n",
      "Accuracy: 99.843%\n"
     ]
    }
   ],
   "source": [
    "from sklearn.svm import SVR\n",
    "regressor2 = SVR(kernel='poly')\n",
    "regressor2.fit(X_train,y_train)\n",
    "y_pred4 = regressor2.predict(X_test)\n",
    "df2 = pd.DataFrame({'Real Values':y_test, 'Predicted Values':y_pred4})\n",
    "result4 = r2_score(y_test,y_pred4)\n",
    "print(df2)\n",
    "print(\"Accuracy: %.3f%%\" % (result4*100.0))"
   ]
  },
  {
   "cell_type": "markdown",
   "metadata": {},
   "source": [
    "# use of Random Forest Regression"
   ]
  },
  {
   "cell_type": "code",
   "execution_count": 20,
   "metadata": {},
   "outputs": [],
   "source": [
    "from sklearn.ensemble import RandomForestRegressor\n",
    "regressor3 = RandomForestRegressor(n_estimators = 100, random_state = 0) \n",
    "regressor3.fit(X_train, y_train)\n",
    "y_pred5 = regressor3.predict(X_test)\n"
   ]
  },
  {
   "cell_type": "code",
   "execution_count": 21,
   "metadata": {},
   "outputs": [
    {
     "name": "stdout",
     "output_type": "stream",
     "text": [
      "   Real Values  Predicted Values\n",
      "0         24.1            24.497\n",
      "1         23.3            23.275\n",
      "2         22.5            21.776\n",
      "3         16.9            17.521\n",
      "Accuracy: 96.662%\n"
     ]
    }
   ],
   "source": [
    "df3 = pd.DataFrame({'Real Values':y_test, 'Predicted Values':y_pred5})\n",
    "result5 = r2_score(y_test,y_pred5)\n",
    "print(df3)\n",
    "print(\"Accuracy: %.3f%%\" % (result5*100.0))"
   ]
  },
  {
   "cell_type": "markdown",
   "metadata": {},
   "source": [
    "# use of K-Nearest-Neighbours"
   ]
  },
  {
   "cell_type": "code",
   "execution_count": 22,
   "metadata": {},
   "outputs": [],
   "source": [
    "from sklearn import neighbors\n",
    "knn = neighbors.KNeighborsRegressor()\n",
    "knn.fit(X_train, y_train)\n",
    "y_pred6 = knn.predict(X_test) \n"
   ]
  },
  {
   "cell_type": "code",
   "execution_count": 23,
   "metadata": {},
   "outputs": [
    {
     "name": "stdout",
     "output_type": "stream",
     "text": [
      "   Real Values  Predicted Values\n",
      "0         24.1             22.54\n",
      "1         23.3             22.54\n",
      "2         22.5             22.54\n",
      "3         16.9             19.88\n",
      "Accuracy: 62.834%\n"
     ]
    }
   ],
   "source": [
    "df4 = pd.DataFrame({'Real Values':y_test, 'Predicted Values':y_pred6})\n",
    "result6 = r2_score(y_test,y_pred6)\n",
    "print(df4)\n",
    "print(\"Accuracy: %.3f%%\" % (result6*100.0))"
   ]
  },
  {
   "cell_type": "code",
   "execution_count": 24,
   "metadata": {},
   "outputs": [
    {
     "name": "stdout",
     "output_type": "stream",
     "text": [
      "Accuracy of linear regression: 99.917%\n",
      "Accuracy of Decision tree model: 86.313%\n",
      "Accuracy of Support vector machine'kernal: 'linear': 99.588%\n",
      "Accuracy of Support vector machine'kernal: 'rfb': -10.125%\n",
      "Accuracy of Support vector machine'kernal: 'poly': 99.843%\n",
      "Accuracy of Random Forest Regression: 96.662%\n",
      "Accuracy K-Nearest-Neighbours: 62.834%\n"
     ]
    }
   ],
   "source": [
    "print(\"Accuracy of linear regression: %.3f%%\" % (result*100.0))\n",
    "print(\"Accuracy of Decision tree model: %.3f%%\" % (result1*100.0))\n",
    "print(\"Accuracy of Support vector machine'kernal: 'linear': %.3f%%\" % (result2*100.0))\n",
    "print(\"Accuracy of Support vector machine'kernal: 'rfb': %.3f%%\" % (result3*100.0))\n",
    "print(\"Accuracy of Support vector machine'kernal: 'poly': %.3f%%\" % (result4*100.0))\n",
    "print(\"Accuracy of Random Forest Regression: %.3f%%\" % (result5*100.0))\n",
    "print(\"Accuracy K-Nearest-Neighbours: %.3f%%\" % (result6*100.0))"
   ]
  },
  {
   "cell_type": "markdown",
   "metadata": {},
   "source": [
    "### The highest accuracy among all is linear regression"
   ]
  },
  {
   "cell_type": "code",
   "execution_count": 25,
   "metadata": {},
   "outputs": [
    {
     "data": {
      "image/png": "[encoded data removed]",
      "text/plain": [
       "<Figure size 432x288 with 1 Axes>"
      ]
     },
     "metadata": {
      "needs_background": "light"
     },
     "output_type": "display_data"
    }
   ],
   "source": [
    "\n",
    "plt.plot(y_test,y_pred, color='red')\n",
    "plt.scatter(y_test,y_pred, color='green')\n",
    "plt.xlabel('actual')\n",
    "plt.ylabel('predicted')\n",
    "plt.show()\n"
   ]
  },
  {
   "cell_type": "code",
   "execution_count": null,
   "metadata": {},
   "outputs": [],
   "source": []
  }
 ],
 "metadata": {
  "kernelspec": {
   "display_name": "Python 3",
   "language": "python",
   "name": "python3"
  },
  "language_info": {
   "codemirror_mode": {
    "name": "ipython",
    "version": 3
   },
   "file_extension": ".py",
   "mimetype": "text/x-python",
   "name": "python",
   "nbconvert_exporter": "python",
   "pygments_lexer": "ipython3",
   "version": "3.7.1"
  }
 },
 "nbformat": 4,
 "nbformat_minor": 2
}
